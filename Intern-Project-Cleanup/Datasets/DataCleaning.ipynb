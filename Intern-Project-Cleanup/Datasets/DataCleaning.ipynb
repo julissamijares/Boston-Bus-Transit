{
  "nbformat": 4,
  "nbformat_minor": 0,
  "metadata": {
    "colab": {
      "provenance": [],
      "authorship_tag": "ABX9TyO0329L6FHWWcmK8J3FwdTm"
    },
    "kernelspec": {
      "name": "python3",
      "display_name": "Python 3"
    },
    "language_info": {
      "name": "python"
    }
  },
  "cells": [
    {
      "cell_type": "code",
      "execution_count": null,
      "metadata": {
        "id": "bIFDU89Iv1MP",
        "colab": {
          "base_uri": "https://localhost:8080/"
        },
        "outputId": "92066cde-d8c5-4fc8-f030-fa1381804d97"
      },
      "outputs": [
        {
          "output_type": "stream",
          "name": "stdout",
          "text": [
            "Mounted at /content/drive\n"
          ]
        }
      ],
      "source": [
        "from google.colab import drive\n",
        "drive.mount('/content/drive')"
      ]
    },
    {
      "cell_type": "code",
      "source": [
        "#install required packages\n",
        "import numpy as np\n",
        "import pandas as pd\n",
        "from plotnine import *\n",
        "from datetime import datetime"
      ],
      "metadata": {
        "id": "jB3OE0Z5KCFd"
      },
      "execution_count": null,
      "outputs": []
    },
    {
      "cell_type": "code",
      "source": [
        "def clean_csv(file_path):\n",
        "    # Read CSV file into a DataFrame\n",
        "    df = pd.read_csv(file_path)\n",
        "\n",
        "    # Keep only the required columns\n",
        "    df = df[['route_id', 'stop_id', 'direction_id', 'half_trip_id', 'point_type', 'scheduled', 'actual']]\n",
        "\n",
        "    # Keep only rows where 'point_type' is 'Startpoint' or 'Endpoint'\n",
        "    df = df[df['point_type'].isin(['Startpoint', 'Endpoint'])]\n",
        "\n",
        "    # Order rows by 'half_trip_id' first, then by 'point_type' so that 'Startpoint' comes before 'Endpoint'\n",
        "    df = df.sort_values(by=['half_trip_id', 'point_type'], ascending=[True, False])\n",
        "\n",
        "    # Convert time format in 'scheduled' and 'actual' columns\n",
        "    df['scheduled'] = pd.to_datetime(df['scheduled']).dt.strftime('%H:%M:%S')\n",
        "    df['actual'] = pd.to_datetime(df['actual']).dt.strftime('%H:%M:%S')\n",
        "\n",
        "    return df\n"
      ],
      "metadata": {
        "id": "kfrfDRiVKDwC"
      },
      "execution_count": null,
      "outputs": []
    },
    {
      "cell_type": "code",
      "source": [
        "def save_cleaned_csv(df, month):\n",
        "    output_file = f'/content/drive/My Drive/WORK/SI_BusTransit_Project/Datasets/clean_MBTA_{month:02d}.csv'\n",
        "    df.to_csv(output_file, index=False)\n",
        "    print(f'Cleaned file saved as: {output_file}')"
      ],
      "metadata": {
        "id": "1IVM5HTOzPUc"
      },
      "execution_count": null,
      "outputs": []
    },
    {
      "cell_type": "code",
      "source": [
        "# Main function to process all CSV files\n",
        "def process_all_files():\n",
        "    for month in range(1, 13):\n",
        "        input_file = f\"/content/drive/My Drive/WORK/SI_BusTransit_Project/Datasets/MBTA-Bus-Arrival-Departure-Times_2022-{month:02d}.csv\"\n",
        "        print(f'Cleaning file: {input_file}')\n",
        "        cleaned_df = clean_csv(input_file)\n",
        "        save_cleaned_csv(cleaned_df, month)\n",
        "\n",
        "# Process all files\n",
        "process_all_files()"
      ],
      "metadata": {
        "id": "Pws9B37aSLlf",
        "colab": {
          "base_uri": "https://localhost:8080/"
        },
        "outputId": "01f35475-3e79-45e2-ed7f-101508cf0abc"
      },
      "execution_count": null,
      "outputs": [
        {
          "output_type": "stream",
          "name": "stdout",
          "text": [
            "Cleaning file: /content/drive/My Drive/WORK/SI_BusTransit_Project/Datasets/MBTA-Bus-Arrival-Departure-Times_2022-01.csv\n",
            "Cleaned file saved as: /content/drive/My Drive/WORK/SI_BusTransit_Project/Datasets/clean_MBTA_01.csv\n",
            "Cleaning file: /content/drive/My Drive/WORK/SI_BusTransit_Project/Datasets/MBTA-Bus-Arrival-Departure-Times_2022-02.csv\n",
            "Cleaned file saved as: /content/drive/My Drive/WORK/SI_BusTransit_Project/Datasets/clean_MBTA_02.csv\n",
            "Cleaning file: /content/drive/My Drive/WORK/SI_BusTransit_Project/Datasets/MBTA-Bus-Arrival-Departure-Times_2022-03.csv\n",
            "Cleaned file saved as: /content/drive/My Drive/WORK/SI_BusTransit_Project/Datasets/clean_MBTA_03.csv\n",
            "Cleaning file: /content/drive/My Drive/WORK/SI_BusTransit_Project/Datasets/MBTA-Bus-Arrival-Departure-Times_2022-04.csv\n",
            "Cleaned file saved as: /content/drive/My Drive/WORK/SI_BusTransit_Project/Datasets/clean_MBTA_04.csv\n",
            "Cleaning file: /content/drive/My Drive/WORK/SI_BusTransit_Project/Datasets/MBTA-Bus-Arrival-Departure-Times_2022-05.csv\n",
            "Cleaned file saved as: /content/drive/My Drive/WORK/SI_BusTransit_Project/Datasets/clean_MBTA_05.csv\n",
            "Cleaning file: /content/drive/My Drive/WORK/SI_BusTransit_Project/Datasets/MBTA-Bus-Arrival-Departure-Times_2022-06.csv\n",
            "Cleaned file saved as: /content/drive/My Drive/WORK/SI_BusTransit_Project/Datasets/clean_MBTA_06.csv\n",
            "Cleaning file: /content/drive/My Drive/WORK/SI_BusTransit_Project/Datasets/MBTA-Bus-Arrival-Departure-Times_2022-07.csv\n",
            "Cleaned file saved as: /content/drive/My Drive/WORK/SI_BusTransit_Project/Datasets/clean_MBTA_07.csv\n",
            "Cleaning file: /content/drive/My Drive/WORK/SI_BusTransit_Project/Datasets/MBTA-Bus-Arrival-Departure-Times_2022-08.csv\n",
            "Cleaned file saved as: /content/drive/My Drive/WORK/SI_BusTransit_Project/Datasets/clean_MBTA_08.csv\n",
            "Cleaning file: /content/drive/My Drive/WORK/SI_BusTransit_Project/Datasets/MBTA-Bus-Arrival-Departure-Times_2022-09.csv\n",
            "Cleaned file saved as: /content/drive/My Drive/WORK/SI_BusTransit_Project/Datasets/clean_MBTA_09.csv\n",
            "Cleaning file: /content/drive/My Drive/WORK/SI_BusTransit_Project/Datasets/MBTA-Bus-Arrival-Departure-Times_2022-10.csv\n",
            "Cleaned file saved as: /content/drive/My Drive/WORK/SI_BusTransit_Project/Datasets/clean_MBTA_10.csv\n",
            "Cleaning file: /content/drive/My Drive/WORK/SI_BusTransit_Project/Datasets/MBTA-Bus-Arrival-Departure-Times_2022-11.csv\n",
            "Cleaned file saved as: /content/drive/My Drive/WORK/SI_BusTransit_Project/Datasets/clean_MBTA_11.csv\n",
            "Cleaning file: /content/drive/My Drive/WORK/SI_BusTransit_Project/Datasets/MBTA-Bus-Arrival-Departure-Times_2022-12.csv\n",
            "Cleaned file saved as: /content/drive/My Drive/WORK/SI_BusTransit_Project/Datasets/clean_MBTA_12.csv\n"
          ]
        }
      ]
    },
    {
      "cell_type": "code",
      "source": [],
      "metadata": {
        "id": "GLDBr37EUE2k"
      },
      "execution_count": null,
      "outputs": []
    }
  ]
}